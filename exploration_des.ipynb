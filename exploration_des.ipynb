{
 "cells": [
  {
   "cell_type": "markdown",
   "metadata": {},
   "source": [
    "Avant d'aborder le bateau ... \n",
    "\n",
    "Je vais simplifier le problème afin de faciliter l'intuition mais aussi d'obtenir des premières résolutions.\n",
    "Ces premières résolutions pourront être remises en question par la complexification du problème, mais il est possible que les raisons qui invalident ces solutions soient alors plus faciles à cerner."
   ]
  },
  {
   "cell_type": "markdown",
   "metadata": {},
   "source": [
    "# Modélisation des touristes en dés\n",
    "\n",
    "Le bateau est désormais une table et les touristes sont des dés. On ne s'intéresse plus à leur poids, mais à la face obtenue par un lancer.\n",
    "\n",
    "De chaque coté de la table, un nombre de places égal à la moitié du nombre de dés qui seront lancés, l'un après l'autre.\n",
    "\n",
    "L'objectif est ici de minimiser la différence entre les sommes des faces présentes de chaque coté de la table.\n",
    "\n",
    "#### Identification des différences\n",
    "\n",
    "Un premier paramètre est altéré lorsque l'on passe des poids de touristes aux faces de dés : La loi de probabilité.\n",
    "\n",
    "Un second paramètre peut aussi être altéré : Le nombre de tirages (et par conséquent le nombre de places)."
   ]
  },
  {
   "cell_type": "code",
   "execution_count": null,
   "metadata": {},
   "outputs": [],
   "source": [
    "class Probleme:\n",
    "    def __init__(self, max_places):\n",
    "        self.max_places = max_places\n",
    "        self.somme_gauche = 0\n",
    "        self.somme_droite = 0\n",
    "        self.nb_gauche = 0\n",
    "        self.nb_droite = 0\n",
    "\n",
    "    def simulation(self, tirage, strategie, print=True):\n",
    "        self.somme_gauche = 0\n",
    "        self.somme_droite = 0\n",
    "        self.nb_gauche = 0\n",
    "        self.nb_droite = 0\n",
    "        nb_lancers = self.max_places * 2\n",
    "        for _ in range(nb_lancers) :\n",
    "            valeur_a_placer = tirage()\n",
    "            strategie(self, valeur_a_placer)\n",
    "        performance = abs(self.somme_droite - self.somme_gauche)\n",
    "        if print :\n",
    "            print(f'Performance obtenue : {performance}')\n",
    "        return performance\n",
    "    \n",
    "    def evaluation(self, tirage, strategie, sample_size, print=True, print_sample=True):\n",
    "        performance_moyenne = 0\n",
    "        for _ in range(sample_size) :\n",
    "            performance = self.simulation(tirage, strategie, print_sample)\n",
    "            performance_moyenne += performance / sample_size\n",
    "        if print :\n",
    "            print(f'Performance moyenne obtenue : {performance_moyenne}')\n",
    "        return performance_moyenne"
   ]
  }
 ],
 "metadata": {
  "kernelspec": {
   "display_name": "venv",
   "language": "python",
   "name": "python3"
  },
  "language_info": {
   "name": "python",
   "version": "3.13.0"
  }
 },
 "nbformat": 4,
 "nbformat_minor": 2
}
