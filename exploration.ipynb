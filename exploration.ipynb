{
 "cells": [
  {
   "cell_type": "markdown",
   "metadata": {},
   "source": [
    "# Modélisation du problème"
   ]
  },
  {
   "cell_type": "code",
   "execution_count": 224,
   "metadata": {},
   "outputs": [],
   "source": [
    "class Probleme:\n",
    "    def __init__(self, max_places):\n",
    "        self.max_places = max_places\n",
    "        self.somme_gauche = 0\n",
    "        self.somme_droite = 0\n",
    "        self.nb_gauche = 0\n",
    "        self.nb_droite = 0\n",
    "        self.touristes = []\n",
    "\n",
    "    def simulation(self, tirage, strategie, print_perf=True):\n",
    "        self.somme_gauche = 0\n",
    "        self.somme_droite = 0\n",
    "        self.nb_gauche = 0\n",
    "        self.nb_droite = 0\n",
    "        self.touristes = []\n",
    "        nb_lancers = self.max_places * 2\n",
    "        for _ in range(nb_lancers) :\n",
    "            valeur_a_placer = tirage()\n",
    "            self.touristes.append(valeur_a_placer)\n",
    "            strategie(self, valeur_a_placer)\n",
    "        performance = abs(self.somme_droite - self.somme_gauche)\n",
    "        if print_perf :\n",
    "            print(f'Performance obtenue : {performance}')\n",
    "        return performance"
   ]
  },
  {
   "cell_type": "markdown",
   "metadata": {},
   "source": [
    "Avant d'aborder le bateau ... \n",
    "\n",
    "Je vais simplifier le problème afin de faciliter l'intuition mais aussi d'obtenir des premières résolutions.\n",
    "\n",
    "Ces premières résolutions pourront être remises en question par la complexification du problème, mais il est possible que les raisons qui invalident ces solutions soient alors plus faciles à cerner.\n",
    "\n",
    "Pour simplifier le problème je compte jouer sur deux paramètres : **La variable aléatoire** (matérialisée par le poids des touristes) et **le nombre de tirages** (materialisé par le nombre de places sur le bateau)."
   ]
  },
  {
   "cell_type": "markdown",
   "metadata": {},
   "source": [
    "# Définition de modalités pour ces paramètres."
   ]
  },
  {
   "cell_type": "markdown",
   "metadata": {},
   "source": [
    "## Variable aléatoire\n",
    "\n",
    "Je vais utiliser trois modalités de référence pour la loi de probabilité. Pour rester dans l'idée de poids de touristes européens, je vais utiliser des valeurs réalistes bien que fausses.\n",
    "\n",
    "Modalité A : Loi uniforme sur [40;105] (moyenne : 72.5)\n",
    "\n",
    "Modalité B : Loi normale de moyenne 72.5 et d'écart type 10\n",
    "\n",
    "Modalité C : Combinaison de deux lois normales de paramètres (65, 10) et (80, 10) chacun ayant une probabilité de 0.5 d'être sélectionnée pour le tirage\n",
    "\n",
    "La modalité A apporte du réalisme aux valeurs, la modalité B ajoute du réalisme à la distribution, et la modalité C permet  d'introduire une prise en compte de classes d'individus (par exemple homme et femmes)"
   ]
  },
  {
   "cell_type": "code",
   "execution_count": 225,
   "metadata": {},
   "outputs": [],
   "source": [
    "import random\n",
    "\n",
    "def tirage_a() :\n",
    "    return random.uniform(40, 105)\n",
    "\n",
    "def tirage_b() :\n",
    "    return random.normalvariate(72.5, 10)\n",
    "\n",
    "def tirage_c() :\n",
    "    return random.normalvariate(65, 10) if random.choice(['femme', 'homme']) == 'femme' else random.normalvariate(80, 10)"
   ]
  },
  {
   "cell_type": "markdown",
   "metadata": {},
   "source": [
    "## Nombre de places"
   ]
  },
  {
   "cell_type": "markdown",
   "metadata": {},
   "source": [
    "Afin de mieux percevoir les enjeux de la position d'un touriste relativement à la position finale, il peux être intéressant d'observer la performance des stratégies sur un nombre plus réduit de tirages, on utilisera donc trois modalités, avec respectivement deux, trois, et quatre places de chaque coté du bateau, soit quatre, six et huit tirages."
   ]
  },
  {
   "cell_type": "code",
   "execution_count": 226,
   "metadata": {},
   "outputs": [],
   "source": [
    "probleme_deux = Probleme(max_places=2)\n",
    "probleme_trois = Probleme(max_places=3)\n",
    "probleme_quatre = Probleme(max_places=4)"
   ]
  },
  {
   "cell_type": "markdown",
   "metadata": {},
   "source": [
    "# Définition d'un première stratégie  : Aveugle"
   ]
  },
  {
   "cell_type": "markdown",
   "metadata": {},
   "source": [
    "Pour commencer je défini la stratégie aveugle, qui consiste a placer les touristes sans même tenir compte du poids observé.\n",
    "\n",
    "L'ordre n'a aucune importance dans un tel cadre, je décide donc de remplir entièrement le coté gauche, puis entièrement le coté droit."
   ]
  },
  {
   "cell_type": "code",
   "execution_count": 227,
   "metadata": {},
   "outputs": [],
   "source": [
    "def strategie_aveugle(probleme, valeur) :\n",
    "    if probleme.nb_gauche < probleme.max_places :\n",
    "        probleme.nb_gauche += 1\n",
    "        probleme.somme_gauche += valeur\n",
    "    else :\n",
    "        probleme.nb_droite += 1\n",
    "        probleme.somme_droite += valeur\n",
    "    return None"
   ]
  },
  {
   "cell_type": "markdown",
   "metadata": {},
   "source": [
    "# Définition d'une meilleure stratégie "
   ]
  },
  {
   "cell_type": "markdown",
   "metadata": {},
   "source": [
    "Je souhaite profiter de la connaissance du poids des touristes, et du nombre de places disponsibles afin de modifier la stratégie aveugle pour mener à un gain en performance.\n",
    "\n",
    "Pour tenir compte des places restantes, je vais considérer que les places vides sont occupées par un touriste fictif, de poids moyen. Cela représente le déroulement plus vraissemblable.\n",
    "\n",
    "Lorsqu'un touriste arrive, il vient donc remplacer un \"touriste fictif\" du coté qui provoque le déséquilibre le plus faible."
   ]
  },
  {
   "cell_type": "code",
   "execution_count": 228,
   "metadata": {},
   "outputs": [],
   "source": [
    "def strategie_progressive(probleme, valeur, poids_moyen=72.5):\n",
    "    # Lorsque le coté gauche est plein, le touriste se place inévitablement à droite.\n",
    "    if probleme.nb_gauche == probleme.max_places :\n",
    "        probleme.nb_droite += 1\n",
    "        probleme.somme_droite += valeur\n",
    "        return None\n",
    "    # Lorsque le coté droite est plein, le touriste se place inévitablement à gauche.\n",
    "    if probleme.nb_droite == probleme.max_places :\n",
    "        probleme.nb_gauche += 1\n",
    "        probleme.somme_gauche += valeur\n",
    "        return None\n",
    "    \n",
    "    # Lorsqu'il reste des places des deux cotés :\n",
    "    # On évalue les déséquilibres induits par un placement à droite, et par un placement à gauche.\n",
    "    etat_gauche = (probleme.max_places - probleme.nb_gauche) * poids_moyen + probleme.somme_gauche\n",
    "    etat_droite = (probleme.max_places - probleme.nb_droite) * poids_moyen + probleme.somme_droite\n",
    "    desequilibre_placement_gauche = abs(etat_gauche + valeur - poids_moyen - etat_droite)\n",
    "    desequilibre_placement_droite = abs(etat_droite + valeur - poids_moyen - etat_gauche)\n",
    "    # On effectue le placement qui induit le déséquilibre le plus faible, en cas d'égalité (bateau vide) on place à gauche\n",
    "    if desequilibre_placement_gauche <= desequilibre_placement_droite :\n",
    "        probleme.nb_gauche += 1\n",
    "        probleme.somme_gauche += valeur\n",
    "    else :\n",
    "        probleme.nb_droite += 1\n",
    "        probleme.somme_droite += valeur\n",
    "    return None"
   ]
  },
  {
   "cell_type": "markdown",
   "metadata": {},
   "source": [
    "# Définition de l'optimum"
   ]
  },
  {
   "cell_type": "markdown",
   "metadata": {},
   "source": [
    "Sans connaitre une hypothétique stratégie optimale, je peux définir l'optimum d'un tirage en le déterminant à posteriori. Avec la connaissance des huit touristes, on peut identifier le déséquilibre minimal qui pouvait être atteint par l'ensemble des stratégies existantes."
   ]
  },
  {
   "cell_type": "code",
   "execution_count": 229,
   "metadata": {},
   "outputs": [],
   "source": [
    "from itertools import combinations\n",
    "\n",
    "def partage_equilibre(liste, max_place) :\n",
    "    combinaisons = list(combinations(liste, max_place))\n",
    "\n",
    "    difference_minimale = 10000\n",
    "    for combinaison in combinaisons :\n",
    "        liste_droite = list(combinaison)\n",
    "        liste_gauche = [valeur for valeur in liste if valeur not in liste_droite]\n",
    "\n",
    "        somme_droite = sum(liste_droite)\n",
    "        somme_gauche = sum(liste_gauche)\n",
    "        difference = abs(somme_droite - somme_gauche)\n",
    "        if difference < difference_minimale :\n",
    "            difference_minimale = difference\n",
    "            \n",
    "    return difference_minimale"
   ]
  },
  {
   "cell_type": "markdown",
   "metadata": {},
   "source": [
    "# Evaluation des stratégies"
   ]
  },
  {
   "cell_type": "code",
   "execution_count": 230,
   "metadata": {},
   "outputs": [],
   "source": [
    "import pandas as pd\n",
    "\n",
    "tirages = [tirage_a, tirage_b, tirage_c]\n",
    "problemes = [probleme_deux, probleme_trois, probleme_quatre]\n",
    "combinaisons = [(tirage.__name__, probleme) for tirage in tirages for probleme in problemes]\n",
    "\n",
    "strategies = [strategie_aveugle, strategie_progressive]\n",
    "\n",
    "columns = [strategie.__name__ for strategie in strategies]\n",
    "\n",
    "df_performance = pd.DataFrame(columns=columns, index=[f'{tirage[-1]} - {probleme.max_places}' for tirage, probleme in combinaisons])\n",
    "df_distance_optimum = pd.DataFrame(columns=columns, index=[f'{tirage[-1]} - {probleme.max_places}' for tirage, probleme in combinaisons])\n",
    "\n",
    "sample_size=1000\n",
    "\n",
    "for tirage, probleme in combinaisons:\n",
    "    tirage_fun = globals()[tirage]\n",
    "    for strategie in strategies:\n",
    "        performance_moyenne = 0\n",
    "        distance_optimum_moyenne = 0\n",
    "        for _ in range(sample_size) :\n",
    "            performance = probleme.simulation(tirage_fun, strategie, print_perf=False)\n",
    "            performance_moyenne += performance / sample_size\n",
    "            distance_optimum = performance - partage_equilibre(probleme.touristes, probleme.max_places)\n",
    "            distance_optimum_moyenne += distance_optimum / sample_size\n",
    "        df_performance.loc[f'{tirage[-1]} - {probleme.max_places}', strategie.__name__] = performance_moyenne\n",
    "        df_distance_optimum.loc[f'{tirage[-1]} - {probleme.max_places}', strategie.__name__] = distance_optimum_moyenne"
   ]
  },
  {
   "cell_type": "code",
   "execution_count": 232,
   "metadata": {},
   "outputs": [
    {
     "data": {
      "text/html": [
       "<div>\n",
       "<style scoped>\n",
       "    .dataframe tbody tr th:only-of-type {\n",
       "        vertical-align: middle;\n",
       "    }\n",
       "\n",
       "    .dataframe tbody tr th {\n",
       "        vertical-align: top;\n",
       "    }\n",
       "\n",
       "    .dataframe thead th {\n",
       "        text-align: right;\n",
       "    }\n",
       "</style>\n",
       "<table border=\"1\" class=\"dataframe\">\n",
       "  <thead>\n",
       "    <tr style=\"text-align: right;\">\n",
       "      <th></th>\n",
       "      <th>strategie_aveugle</th>\n",
       "      <th>strategie_progressive</th>\n",
       "    </tr>\n",
       "  </thead>\n",
       "  <tbody>\n",
       "    <tr>\n",
       "      <th>a - 2</th>\n",
       "      <td>30.906325</td>\n",
       "      <td>21.530747</td>\n",
       "    </tr>\n",
       "    <tr>\n",
       "      <th>a - 3</th>\n",
       "      <td>35.828643</td>\n",
       "      <td>22.411221</td>\n",
       "    </tr>\n",
       "    <tr>\n",
       "      <th>a - 4</th>\n",
       "      <td>42.519317</td>\n",
       "      <td>24.721257</td>\n",
       "    </tr>\n",
       "    <tr>\n",
       "      <th>b - 2</th>\n",
       "      <td>16.356007</td>\n",
       "      <td>11.323513</td>\n",
       "    </tr>\n",
       "    <tr>\n",
       "      <th>b - 3</th>\n",
       "      <td>19.020461</td>\n",
       "      <td>12.751661</td>\n",
       "    </tr>\n",
       "    <tr>\n",
       "      <th>b - 4</th>\n",
       "      <td>21.53451</td>\n",
       "      <td>12.855353</td>\n",
       "    </tr>\n",
       "    <tr>\n",
       "      <th>c - 2</th>\n",
       "      <td>20.357549</td>\n",
       "      <td>14.550555</td>\n",
       "    </tr>\n",
       "    <tr>\n",
       "      <th>c - 3</th>\n",
       "      <td>23.963517</td>\n",
       "      <td>16.046828</td>\n",
       "    </tr>\n",
       "    <tr>\n",
       "      <th>c - 4</th>\n",
       "      <td>27.302474</td>\n",
       "      <td>16.858555</td>\n",
       "    </tr>\n",
       "  </tbody>\n",
       "</table>\n",
       "</div>"
      ],
      "text/plain": [
       "      strategie_aveugle strategie_progressive\n",
       "a - 2         30.906325             21.530747\n",
       "a - 3         35.828643             22.411221\n",
       "a - 4         42.519317             24.721257\n",
       "b - 2         16.356007             11.323513\n",
       "b - 3         19.020461             12.751661\n",
       "b - 4          21.53451             12.855353\n",
       "c - 2         20.357549             14.550555\n",
       "c - 3         23.963517             16.046828\n",
       "c - 4         27.302474             16.858555"
      ]
     },
     "execution_count": 232,
     "metadata": {},
     "output_type": "execute_result"
    }
   ],
   "source": [
    "df_performance"
   ]
  },
  {
   "cell_type": "code",
   "execution_count": 233,
   "metadata": {},
   "outputs": [
    {
     "data": {
      "text/html": [
       "<div>\n",
       "<style scoped>\n",
       "    .dataframe tbody tr th:only-of-type {\n",
       "        vertical-align: middle;\n",
       "    }\n",
       "\n",
       "    .dataframe tbody tr th {\n",
       "        vertical-align: top;\n",
       "    }\n",
       "\n",
       "    .dataframe thead th {\n",
       "        text-align: right;\n",
       "    }\n",
       "</style>\n",
       "<table border=\"1\" class=\"dataframe\">\n",
       "  <thead>\n",
       "    <tr style=\"text-align: right;\">\n",
       "      <th></th>\n",
       "      <th>strategie_aveugle</th>\n",
       "      <th>strategie_progressive</th>\n",
       "    </tr>\n",
       "  </thead>\n",
       "  <tbody>\n",
       "    <tr>\n",
       "      <th>a - 2</th>\n",
       "      <td>17.853474</td>\n",
       "      <td>8.398794</td>\n",
       "    </tr>\n",
       "    <tr>\n",
       "      <th>a - 3</th>\n",
       "      <td>29.630789</td>\n",
       "      <td>16.288362</td>\n",
       "    </tr>\n",
       "    <tr>\n",
       "      <th>a - 4</th>\n",
       "      <td>40.169541</td>\n",
       "      <td>22.432838</td>\n",
       "    </tr>\n",
       "    <tr>\n",
       "      <th>b - 2</th>\n",
       "      <td>9.53303</td>\n",
       "      <td>4.664759</td>\n",
       "    </tr>\n",
       "    <tr>\n",
       "      <th>b - 3</th>\n",
       "      <td>15.855665</td>\n",
       "      <td>9.752345</td>\n",
       "    </tr>\n",
       "    <tr>\n",
       "      <th>b - 4</th>\n",
       "      <td>20.463318</td>\n",
       "      <td>11.645945</td>\n",
       "    </tr>\n",
       "    <tr>\n",
       "      <th>c - 2</th>\n",
       "      <td>11.940523</td>\n",
       "      <td>6.198305</td>\n",
       "    </tr>\n",
       "    <tr>\n",
       "      <th>c - 3</th>\n",
       "      <td>20.26095</td>\n",
       "      <td>12.256334</td>\n",
       "    </tr>\n",
       "    <tr>\n",
       "      <th>c - 4</th>\n",
       "      <td>25.946353</td>\n",
       "      <td>15.459656</td>\n",
       "    </tr>\n",
       "  </tbody>\n",
       "</table>\n",
       "</div>"
      ],
      "text/plain": [
       "      strategie_aveugle strategie_progressive\n",
       "a - 2         17.853474              8.398794\n",
       "a - 3         29.630789             16.288362\n",
       "a - 4         40.169541             22.432838\n",
       "b - 2           9.53303              4.664759\n",
       "b - 3         15.855665              9.752345\n",
       "b - 4         20.463318             11.645945\n",
       "c - 2         11.940523              6.198305\n",
       "c - 3          20.26095             12.256334\n",
       "c - 4         25.946353             15.459656"
      ]
     },
     "execution_count": 233,
     "metadata": {},
     "output_type": "execute_result"
    }
   ],
   "source": [
    "df_distance_optimum"
   ]
  },
  {
   "cell_type": "markdown",
   "metadata": {},
   "source": [
    "J'observe une meilleure performance sur la stratégie progressive par rapport à la stratégie aveugle pour toutes les distributions. Cette performance progresse plus fortement lorsque le nombre de places sur le bateau augmente.\n",
    "\n",
    "La distance à l'optimum diminue aussi largement entre la stratégie aveugle et la stratégie progressive. Pour toutes les modalités on divise a peu près cette distance par deux."
   ]
  },
  {
   "cell_type": "code",
   "execution_count": null,
   "metadata": {},
   "outputs": [],
   "source": []
  }
 ],
 "metadata": {
  "kernelspec": {
   "display_name": "venv",
   "language": "python",
   "name": "python3"
  },
  "language_info": {
   "codemirror_mode": {
    "name": "ipython",
    "version": 3
   },
   "file_extension": ".py",
   "mimetype": "text/x-python",
   "name": "python",
   "nbconvert_exporter": "python",
   "pygments_lexer": "ipython3",
   "version": "3.13.0"
  }
 },
 "nbformat": 4,
 "nbformat_minor": 2
}
